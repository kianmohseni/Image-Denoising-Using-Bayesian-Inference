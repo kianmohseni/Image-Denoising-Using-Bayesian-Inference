{
  "cells": [
    {
      "cell_type": "markdown",
      "metadata": {
        "id": "l3ZN9hhH35_d"
      },
      "source": [
        "\n",
        "\n",
        "Denoising a corrupted image using Bayesian inference with a very simple prior."
      ]
    },
    {
      "cell_type": "code",
      "execution_count": null,
      "metadata": {
        "id": "jaYXB3UJ4Ej2"
      },
      "outputs": [],
      "source": [
        "import numpy as np\n",
        "import matplotlib.pyplot as plt\n",
        "import cv2\n",
        "import math"
      ]
    },
    {
      "cell_type": "code",
      "source": [
        "from google.colab import drive\n",
        "drive.mount('/content/drive')"
      ],
      "metadata": {
        "colab": {
          "base_uri": "https://localhost:8080/"
        },
        "id": "IrxKIPPv_a5g",
        "outputId": "e48c724c-a66b-43c6-cb1e-f8871dfd62e7"
      },
      "execution_count": null,
      "outputs": [
        {
          "output_type": "stream",
          "name": "stdout",
          "text": [
            "Drive already mounted at /content/drive; to attempt to forcibly remount, call drive.mount(\"/content/drive\", force_remount=True).\n"
          ]
        }
      ]
    },
    {
      "cell_type": "markdown",
      "metadata": {
        "id": "Hn9G8mQ_6JNg"
      },
      "source": [
        "This next routine loads in an image. We will be working with `noisy_bear.png`, which is a corrupted version of `original_bear.png`. The image is 62-by-62; we binarize it (to values -1 and +1) and then embed it in the center of a 64-by-64 image whose edges are padded with zeros."
      ]
    },
    {
      "cell_type": "code",
      "execution_count": null,
      "metadata": {
        "id": "ifBSSU4dIuYM"
      },
      "outputs": [],
      "source": [
        "# Subroutine for loading an image\n",
        "# Any pixel with value >= 128 is set to +1\n",
        "# Any pixel with value < 128 is set to -1\n",
        "def load_image(filename):\n",
        "  img = cv2.imread(filename,cv2.IMREAD_GRAYSCALE)\n",
        "  img = img/255.0\n",
        "  img[img>=0.5]=1.0\n",
        "  img[img<0.5]=0.0\n",
        "  img = img*2-1\n",
        "  return img\n",
        "\n",
        "# Load in both the degraded image and the original\n",
        "img = load_image(\"/content/drive/My Drive/DSC 257R/gibbs/noisy_bear.png\")\n",
        "gt = load_image(\"/content/drive/My Drive/DSC 257R/gibbs/original_bear.png\")\n",
        "M,N = img.shape[0], img.shape[1]\n",
        "\n",
        "# Create a version of img that is padded with zeros all around\n",
        "padded_image = np.zeros((img.shape[0]+2, img.shape[1]+2)) #Padding image to make some computations easier\n",
        "padded_image[1:-1,1:-1] = img"
      ]
    },
    {
      "cell_type": "markdown",
      "metadata": {
        "id": "cxsJ2z4v6JNg"
      },
      "source": [
        "### <font color='blue'>The probabilistic model</font>\n",
        "\n",
        "Let $X$ denote the degraded image (of size $M \\times N$) and $Y$ the original that we wish to reconstruct (warning: we used the opposite notation in lecture). We will posit a simple probabilistic model of the joint distribution of $(X,Y)$:\n"
      ]
    },
    {
      "cell_type": "markdown",
      "metadata": {
        "id": "G4qvmITzXhvC"
      },
      "source": [
        "![lsing.png](data:image/png;base64,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)\n"
      ]
    },
    {
      "cell_type": "markdown",
      "metadata": {
        "id": "HU5zNc-76JNi"
      },
      "source": [
        "Let $p = (i,j)$ denote a position in the image and let $X_p = X(i,j), Y_p = Y(i,j)$ be the values of $X$ and $Y$ at that location. Recall that these values are -1 or +1. Write $p \\sim q$ if $p,q$ are neighboring pixels; note that pixel $p = (i,j)$ has neighbors ${\\mathcal{N}}(p) = \\{ (i-1,j), (i+1,j), (i,j-1), (i,j+1)\\}$. Then the probability of $X,Y$ is:\n",
        "\n",
        "$$Pr(X,Y) \\propto \\prod\\limits_{p \\in [M] \\times [N]} \\phi(X_{p},Y_{p})\\prod\\limits_{p \\sim q}\\phi(Y_p, Y_q) $$\n",
        "\n",
        "Notice that here all clique potentials are identical functions. We will use $\\phi(u, v) = e^{uv}$."
      ]
    },
    {
      "cell_type": "markdown",
      "metadata": {
        "id": "BVtMhIFv6JNj"
      },
      "source": [
        "### <font color='blue'>Sampling from the posterior</font>\n",
        "\n",
        "We wish to sample from the <b>posterior distribution over $Y$ given $X$</b>. We'll do this using Gibbs sampling:\n",
        "\n",
        "* We will initialize the recovered image with each pixel set uniformly to $\\{-1,+1\\}$\n",
        "* We will then repeatedly choose a pixel $p$ to update and re-sample its value from $Pr(Y_p | X, Y_{\\setminus p})$.\n",
        "\n"
      ]
    },
    {
      "cell_type": "code",
      "source": [
        "def calculate_probability(Y, X, beta, i, j):\n",
        "    \"\"\"\n",
        "    Calculates Pr(Y_p = +1 | Y_{\\backslash p}, X) for a pixel (i, j).\n",
        "    \"\"\"\n",
        "    neighbors = [(i-1, j), (i+1, j), (i, j-1), (i, j+1)]\n",
        "    neighbor_sum = sum(Y[x, y] for x, y in neighbors if 0 <= x < Y.shape[0] and 0 <= y < Y.shape[1])\n",
        "    # Calculate the probability ratio\n",
        "    exp_positive = np.exp(beta * (neighbor_sum + X[i, j]))\n",
        "    exp_negative = np.exp(-beta * (neighbor_sum + X[i, j]))\n",
        "    probability_positive = exp_positive / (exp_positive + exp_negative)\n",
        "    return probability_positive"
      ],
      "metadata": {
        "id": "rtiqaLMlFGRg"
      },
      "execution_count": null,
      "outputs": []
    },
    {
      "cell_type": "code",
      "source": [
        "# Initialize Y randomly with -1 or +1\n",
        "Y = np.random.choice([-1, 1], size=img.shape)\n",
        "\n",
        "# Parameters for Gibbs sampling\n",
        "beta = 1.0\n",
        "iterations = 100  # Number of Gibbs sampling iterations\n",
        "snapshots = []\n",
        "\n",
        "# Run Gibbs sampling\n",
        "for iteration in range(iterations):\n",
        "    for i in range(Y.shape[0]):\n",
        "        for j in range(Y.shape[1]):\n",
        "            prob = calculate_probability(Y, img, beta, i, j)\n",
        "            Y[i, j] = 1 if np.random.rand() < prob else -1\n",
        "    # Save intermediate images at regular intervals\n",
        "    if iteration % (iterations // 5) == 0:  # 5 snapshots for visualization\n",
        "        snapshots.append(Y.copy())\n",
        "\n",
        "# Display snapshots\n",
        "fig, axs = plt.subplots(1, len(snapshots), figsize=(15, 3))\n",
        "for idx, snap in enumerate(snapshots):\n",
        "    axs[idx].imshow(snap, cmap='gray')\n",
        "    axs[idx].set_title(f'Iteration {idx * (iterations // 5)}')\n",
        "    axs[idx].axis('off')\n",
        "plt.show()"
      ],
      "metadata": {
        "colab": {
          "base_uri": "https://localhost:8080/",
          "height": 259
        },
        "id": "SlF5qh86FNJm",
        "outputId": "7e21ccec-6eac-464d-8965-e68ac7132674"
      },
      "execution_count": null,
      "outputs": [
        {
          "output_type": "display_data",
          "data": {
            "text/plain": [
              "<Figure size 1500x300 with 5 Axes>"
            ],
            "image/png": "[encoded data removed]"
          },
          "metadata": {}
        }
      ]
    },
    {
      "cell_type": "code",
      "source": [
        "# Final reconstructed image using the expectation of Y given X\n",
        "final_image = np.sign(Y)\n",
        "\n",
        "# Display the final reconstructed image\n",
        "plt.imshow(final_image, cmap='gray')\n",
        "plt.title(\"Final Reconstructed Image\")\n",
        "plt.axis('off')\n",
        "plt.show()"
      ],
      "metadata": {
        "colab": {
          "base_uri": "https://localhost:8080/",
          "height": 428
        },
        "id": "4Pnwzk8SCXcX",
        "outputId": "5a76e174-bcf8-44db-c3c2-16d51aaa9ea1"
      },
      "execution_count": null,
      "outputs": [
        {
          "output_type": "display_data",
          "data": {
            "text/plain": [
              "<Figure size 640x480 with 1 Axes>"
            ],
            "image/png": "[encoded data removed]"
          },
          "metadata": {}
        }
      ]
    }
  ],
  "metadata": {
    "colab": {
      "provenance": []
    },
    "kernelspec": {
      "display_name": "Python 3 (ipykernel)",
      "language": "python",
      "name": "python3"
    },
    "language_info": {
      "codemirror_mode": {
        "name": "ipython",
        "version": 3
      },
      "file_extension": ".py",
      "mimetype": "text/x-python",
      "name": "python",
      "nbconvert_exporter": "python",
      "pygments_lexer": "ipython3",
      "version": "3.10.9"
    },
    "toc": {
      "colors": {
        "hover_highlight": "#DAA520",
        "navigate_num": "#000000",
        "navigate_text": "#333333",
        "running_highlight": "#FF0000",
        "selected_highlight": "#FFD700",
        "sidebar_border": "#EEEEEE",
        "wrapper_background": "#FFFFFF"
      },
      "moveMenuLeft": true,
      "nav_menu": {
        "height": "84px",
        "width": "252px"
      },
      "navigate_menu": true,
      "number_sections": true,
      "sideBar": true,
      "threshold": 4,
      "toc_cell": false,
      "toc_section_display": "block",
      "toc_window_display": false,
      "widenNotebook": false
    }
  },
  "nbformat": 4,
  "nbformat_minor": 0
}